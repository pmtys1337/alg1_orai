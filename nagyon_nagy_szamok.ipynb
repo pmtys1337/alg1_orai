{
 "cells": [
  {
   "cell_type": "markdown",
   "metadata": {},
   "source": [
    "# Nagyon nagy szamok\n",
    "\n",
    "Lancolt lista segitsegevel valositsd meg a nagy szamok tipusat.\n",
    "\n",
    "Mukodes:\n",
    "- **Kostruktor**: egy stringet kapjon (\"2323413235343\"), amibol felepiti a listat\n",
    "- **Kiiras**: valositsd meg a szam kiirasat vegzo bn_print() fgv-t\n",
    "- **Muveletek**: valositsd meg a tipuson az osszeadas es kivonas muveletet (az eredmeny egy uj objektum legyen)"
   ]
  },
  {
   "cell_type": "code",
   "execution_count": 8,
   "metadata": {},
   "outputs": [],
   "source": [
    "# class of big numbers\n",
    "class BigNumber():\n",
    "    def __init__(self,value):\n",
    "        pass\n",
    "    def bn_print():\n",
    "        pass\n",
    "    def bn_add(self, other):\n",
    "        result = BigNumber(0)\n",
    "        return result\n",
    "    def bn_sub(self, other):\n",
    "        result = BigNumber(0)\n",
    "        return result"
   ]
  }
 ],
 "metadata": {
  "kernelspec": {
   "display_name": "Python 3",
   "language": "python",
   "name": "python3"
  },
  "language_info": {
   "codemirror_mode": {
    "name": "ipython",
    "version": 3
   },
   "file_extension": ".py",
   "mimetype": "text/x-python",
   "name": "python",
   "nbconvert_exporter": "python",
   "pygments_lexer": "ipython3",
   "version": "3.5.2"
  }
 },
 "nbformat": 4,
 "nbformat_minor": 2
}

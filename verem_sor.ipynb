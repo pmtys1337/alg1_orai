{
 "cells": [
  {
   "cell_type": "markdown",
   "metadata": {},
   "source": [
    "# Verem, sor\n",
    "\n",
    "A verem es a sor ket sokszor hasznalt adatszerkezet, melyek megvalositasa mind lancolt listakon alapszik, csupan a mukodesukben ternek el.\n",
    "\n",
    "### Verem\n",
    "\n",
    "A verem egy ugynevezett **LIFO** (*last in first out*) szerkezet, amit pontosan ugy kell elkepzelni, mint egy foldbe adsott godrot, aminek a tetejere tudunk pakolni es onnan levenni. Alapvetoen mikor futtatjuk a programunkat az operacios rendszer pontosan ilyen szerkezetben biztosit szamunkra memoriat amivel a programunk gazdalkodhat, praktikusan a mukodesi elvebol kovetkeznek az azonositok lathatosagai.  \n",
    "Fobb muveletei:  \n",
    "- **push**: elemet helyez a verem tetejere\n",
    "- **pop**: leveszi a legfelso elemet, visszater annak ertekevel\n",
    "- **top**: visszater a legfelso elem ertekevel, de *nem* nyul hozza\n",
    "- **size**: megmondja hany elem van a veremben\n",
    "- **is_emty**: megmondja, hogy ures-e a verem\n",
    "\n",
    "### Sor\n",
    "\n",
    "A sor szerkezet egy **FIFO** (*first in first out*) adatszerkezet, ami reprezentalhat egy boltban varakozo sort. Gyakran hasznaljak a szerkezetet elosztott rendszerek kezelesere, pl. mikor halozati nyomtatot tobb ember hasznal, ha a nyomtato hasznalatban van epp de valaki nyomtatasi kerelmet kuld, tipikusan ido szerint erkezesi sorrendben a felugyelo szoftver ilyen sort epit a beerkezett keresekbol, igy a nyomtato felszabadulasa utan a kereseket az eredeti sorrendben kepes kiszolgalni.  \n",
    "Fobb muveletei:  \n",
    "- **push**: elemet helyez a sor vegere\n",
    "- **pop**: leveszi a sor elso elemet es visszater vele\n",
    "- **first**: megmutatja a sor elso elemet\n",
    "- **size**: sor merete\n",
    "- **is_empty**: megmondja, hogy ures-e a sor"
   ]
  },
  {
   "cell_type": "code",
   "execution_count": 3,
   "metadata": {},
   "outputs": [],
   "source": [
    "class Stack:\n",
    "    class Node:\n",
    "        def __init__(self,value):\n",
    "            self.value = value\n",
    "            self.prev_node = None\n",
    "    def __init__(self):\n",
    "        self.top = None\n",
    "        self.s_size = 0\n",
    "    def push(self,elem):\n",
    "        if self.top == None:\n",
    "            self.top = self.Node(elem)\n",
    "        else:\n",
    "            new_node = self.Node(elem)\n",
    "            new_node.prev_node = self.top\n",
    "            self.top = new_node\n",
    "        self.s_size += 1\n",
    "    def pop(self):\n",
    "        if self.top != None:\n",
    "            top_value = self.top.value\n",
    "            self.top = self.top.prev_node\n",
    "            self.s_size -= 1\n",
    "            return top_value\n",
    "    def top(self):\n",
    "        return self.top.value\n",
    "    def is_empty(self):\n",
    "        return self.top == None\n",
    "    def size(self):\n",
    "        return self.s_size\n",
    "    def show_stack(self):\n",
    "        act_node = self.top\n",
    "        while act_node != None:\n",
    "            print(act_node.value, end=\" \")\n",
    "            act_node = act_node.prev_node\n",
    "        print()"
   ]
  },
  {
   "cell_type": "code",
   "execution_count": 4,
   "metadata": {
    "scrolled": true
   },
   "outputs": [
    {
     "name": "stdout",
     "output_type": "stream",
     "text": [
      "1 \n",
      "2 1 \n",
      "3 2 1 \n",
      "5 3 2 1 \n",
      "3 2 1 \n",
      "6 3 2 1 \n",
      "4\n"
     ]
    }
   ],
   "source": [
    "stack = Stack()\n",
    "stack.push(1)\n",
    "stack.show_stack()\n",
    "stack.push(2)\n",
    "stack.show_stack()\n",
    "stack.push(3)\n",
    "stack.show_stack()\n",
    "stack.push(5)\n",
    "stack.show_stack()\n",
    "stack.pop()\n",
    "stack.show_stack()\n",
    "stack.push(6)\n",
    "stack.show_stack()\n",
    "print(stack.size())"
   ]
  },
  {
   "cell_type": "code",
   "execution_count": 16,
   "metadata": {},
   "outputs": [],
   "source": [
    "def is_correct(expr):\n",
    "    stack = Stack()\n",
    "    correct = True\n",
    "    ch_idx = 0\n",
    "    while correct and ch_idx < len(expr):\n",
    "        act_ch = expr[ch_idx]\n",
    "        if act_ch == \"(\":\n",
    "            stack.push(act_ch)\n",
    "        elif act_ch == \")\":\n",
    "            if not stack.is_empty():\n",
    "                stack.pop()\n",
    "            else:\n",
    "                correct = False\n",
    "        ch_idx += 1\n",
    "    \n",
    "    return correct and stack.is_empty()"
   ]
  },
  {
   "cell_type": "code",
   "execution_count": 19,
   "metadata": {},
   "outputs": [
    {
     "name": "stdout",
     "output_type": "stream",
     "text": [
      "True\n",
      "False\n"
     ]
    }
   ],
   "source": [
    "print(is_correct(\"()\"))\n",
    "print(is_correct(\"())(())\"))"
   ]
  },
  {
   "cell_type": "code",
   "execution_count": 22,
   "metadata": {},
   "outputs": [],
   "source": [
    "def binary(number):\n",
    "    stack = Stack()\n",
    "    while number != 0:\n",
    "        stack.push(number % 2)\n",
    "        number //= 2\n",
    "    result = \"\"\n",
    "    while not stack.is_empty():\n",
    "        result += str(stack.pop())\n",
    "    return result"
   ]
  },
  {
   "cell_type": "code",
   "execution_count": 23,
   "metadata": {},
   "outputs": [
    {
     "name": "stdout",
     "output_type": "stream",
     "text": [
      "1000000000\n"
     ]
    }
   ],
   "source": [
    "print(binary(512))"
   ]
  },
  {
   "cell_type": "code",
   "execution_count": 1,
   "metadata": {},
   "outputs": [],
   "source": [
    "class Queue:\n",
    "    class Node:\n",
    "        def __init__(self,value):\n",
    "            self.value = value\n",
    "            self.prev_node = None\n",
    "    def __init__(self):\n",
    "        self.first = None\n",
    "        self.last = None\n",
    "        self.q_size = 0\n",
    "    def push(self,elem):\n",
    "        if self.first == None:\n",
    "            self.first = Node(elem)\n",
    "            self.last = self.first\n",
    "        else:\n",
    "            new_node = Node(elem)\n",
    "            self.last.prev_node = new_node\n",
    "            self.last = new_node\n",
    "        self.q_size += 1\n",
    "    def pop(self):\n",
    "        if self.first != None:\n",
    "            act_value = self.first.value\n",
    "            self.first = self.first.prev_node\n",
    "            self.q_size -= 1\n",
    "            return act_value\n",
    "    def first(self):\n",
    "        return self.first.value\n",
    "    def size(self):\n",
    "        return self.q_size\n",
    "    def is_empty(self):\n",
    "        return self.q_size == 0\n",
    "    "
   ]
  },
  {
   "cell_type": "code",
   "execution_count": null,
   "metadata": {},
   "outputs": [],
   "source": []
  }
 ],
 "metadata": {
  "kernelspec": {
   "display_name": "Python 3",
   "language": "python",
   "name": "python3"
  },
  "language_info": {
   "codemirror_mode": {
    "name": "ipython",
    "version": 3
   },
   "file_extension": ".py",
   "mimetype": "text/x-python",
   "name": "python",
   "nbconvert_exporter": "python",
   "pygments_lexer": "ipython3",
   "version": "3.5.2"
  }
 },
 "nbformat": 4,
 "nbformat_minor": 2
}

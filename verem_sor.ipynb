{
 "cells": [
  {
   "cell_type": "markdown",
   "metadata": {},
   "source": [
    "# Verem, sor"
   ]
  },
  {
   "cell_type": "code",
   "execution_count": 3,
   "metadata": {},
   "outputs": [],
   "source": [
    "class Stack:\n",
    "    class Node:\n",
    "        def __init__(self,value):\n",
    "            self.value = value\n",
    "            self.prev_node = None\n",
    "    def __init__(self):\n",
    "        self.top = None\n",
    "        self.s_size = 0\n",
    "    def push(self,elem):\n",
    "        if self.top == None:\n",
    "            self.top = self.Node(elem)\n",
    "        else:\n",
    "            new_node = self.Node(elem)\n",
    "            new_node.prev_node = self.top\n",
    "            self.top = new_node\n",
    "        self.s_size += 1\n",
    "    def pop(self):\n",
    "        if self.top != None:\n",
    "            top_value = self.top.value\n",
    "            self.top = self.top.prev_node\n",
    "            self.s_size -= 1\n",
    "            return top_value\n",
    "    def top(self):\n",
    "        return self.top.value\n",
    "    def is_empty(self):\n",
    "        return self.top == None\n",
    "    def size(self):\n",
    "        return self.s_size\n",
    "    def show_stack(self):\n",
    "        act_node = self.top\n",
    "        while act_node != None:\n",
    "            print(act_node.value, end=\" \")\n",
    "            act_node = act_node.prev_node\n",
    "        print()"
   ]
  },
  {
   "cell_type": "code",
   "execution_count": 4,
   "metadata": {
    "scrolled": true
   },
   "outputs": [
    {
     "name": "stdout",
     "output_type": "stream",
     "text": [
      "1 \n",
      "2 1 \n",
      "3 2 1 \n",
      "5 3 2 1 \n",
      "3 2 1 \n",
      "6 3 2 1 \n",
      "4\n"
     ]
    }
   ],
   "source": [
    "stack = Stack()\n",
    "stack.push(1)\n",
    "stack.show_stack()\n",
    "stack.push(2)\n",
    "stack.show_stack()\n",
    "stack.push(3)\n",
    "stack.show_stack()\n",
    "stack.push(5)\n",
    "stack.show_stack()\n",
    "stack.pop()\n",
    "stack.show_stack()\n",
    "stack.push(6)\n",
    "stack.show_stack()\n",
    "print(stack.size())"
   ]
  },
  {
   "cell_type": "code",
   "execution_count": 16,
   "metadata": {},
   "outputs": [],
   "source": [
    "def is_correct(expr):\n",
    "    stack = Stack()\n",
    "    correct = True\n",
    "    ch_idx = 0\n",
    "    while correct and ch_idx < len(expr):\n",
    "        act_ch = expr[ch_idx]\n",
    "        if act_ch == \"(\":\n",
    "            stack.push(act_ch)\n",
    "        elif act_ch == \")\":\n",
    "            if not stack.is_empty():\n",
    "                stack.pop()\n",
    "            else:\n",
    "                correct = False\n",
    "        ch_idx += 1\n",
    "    \n",
    "    return correct and stack.is_empty()"
   ]
  },
  {
   "cell_type": "code",
   "execution_count": 19,
   "metadata": {},
   "outputs": [
    {
     "name": "stdout",
     "output_type": "stream",
     "text": [
      "True\n",
      "False\n"
     ]
    }
   ],
   "source": [
    "print(is_correct(\"()\"))\n",
    "print(is_correct(\"())(())\"))"
   ]
  },
  {
   "cell_type": "code",
   "execution_count": 22,
   "metadata": {},
   "outputs": [],
   "source": [
    "def binary(number):\n",
    "    stack = Stack()\n",
    "    while number != 0:\n",
    "        stack.push(number % 2)\n",
    "        number //= 2\n",
    "    result = \"\"\n",
    "    while not stack.is_empty():\n",
    "        result += str(stack.pop())\n",
    "    return result"
   ]
  },
  {
   "cell_type": "code",
   "execution_count": 23,
   "metadata": {},
   "outputs": [
    {
     "name": "stdout",
     "output_type": "stream",
     "text": [
      "1000000000\n"
     ]
    }
   ],
   "source": [
    "print(binary(512))"
   ]
  },
  {
   "cell_type": "code",
   "execution_count": null,
   "metadata": {},
   "outputs": [],
   "source": [
    "class Queue:\n",
    "    pass"
   ]
  }
 ],
 "metadata": {
  "kernelspec": {
   "display_name": "Python 3",
   "language": "python",
   "name": "python3"
  },
  "language_info": {
   "codemirror_mode": {
    "name": "ipython",
    "version": 3
   },
   "file_extension": ".py",
   "mimetype": "text/x-python",
   "name": "python",
   "nbconvert_exporter": "python",
   "pygments_lexer": "ipython3",
   "version": "3.5.2"
  }
 },
 "nbformat": 4,
 "nbformat_minor": 2
}

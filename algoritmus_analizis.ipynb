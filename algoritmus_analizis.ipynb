{
 "cells": [
  {
   "cell_type": "markdown",
   "metadata": {},
   "source": [
    "# Algoritmus analizis\n",
    "\n",
    "A programozas kezdete ota altalanosan elofordulo dolog a programok osszehasonlitasa. Eszrevehetjuk, hogy sok program -bizonyos problemakoron belul-, nagyon hasonlit egymashoz, foleg az egyszerubbek / rovidebbek. Gyakran felmerul egy erdekes kerdes. Ha ket program ugyan azt a feladatot oldja meg, megis nagyon kulonbozoek, jobb-e az egyik, mint a masik?\n",
    "\n",
    "Hogy ezt a kerdeskort megvizsgaljuk, szem elott kell tartanunk kulonbseg van program es az algoritmus kozott, amit az reprezental. Az algoritmus altalanos utasitasok egy sorozata ami eljuttat minket az **adott** feladat megoldasahoz. Sok program megvalosithatja ugyan azt az algoritmust ami fugghet egyarant a programozotol es a nyelvtol is amit hasznal.\n",
    "\n",
    "Nezzuk a mar jol ismert osszegzest megvalosito fuggvenyt. A gyakran elofordulo problemat oldja meg, ahol ossze kell adnunk az elso *n* szamot. Az algoritmus alapotlete, hogy egy akkumlalo valtozo -az uj erteke **mindig** fugg a regitol- bevezetesevel, az osszes szamot ehhez hozzaadva megkaphatjuk a vegeredmenyt."
   ]
  },
  {
   "cell_type": "code",
   "execution_count": 1,
   "metadata": {},
   "outputs": [
    {
     "name": "stdout",
     "output_type": "stream",
     "text": [
      "55\n"
     ]
    }
   ],
   "source": [
    "def sum_n(n):\n",
    "    summa = 0\n",
    "    for i in range(1,n+1):\n",
    "        summa = summa + i\n",
    "    \n",
    "    return summa\n",
    "\n",
    "print(sum_n(10))"
   ]
  },
  {
   "cell_type": "code",
   "execution_count": 2,
   "metadata": {},
   "outputs": [
    {
     "name": "stdout",
     "output_type": "stream",
     "text": [
      "55\n"
     ]
    }
   ],
   "source": [
    "def foo(tom):\n",
    "    fred = 0\n",
    "    for bill in range(1,tom+1):\n",
    "        barney = bill\n",
    "        fred = fred + barney\n",
    "        \n",
    "    return fred\n",
    "\n",
    "print(foo(10))"
   ]
  },
  {
   "cell_type": "markdown",
   "metadata": {},
   "source": [
    "A ket fuggvenyt osszehasonlitva nem is annyira magatol ertetodo melyik a jobb megoldas. A valasz nagyban fugg a program / algoritmus fele tamasztott kovetelmenyektol. Persze azonnal mondhatnank hogy szem elott tartva az **easy to read and easy to understand** elvet, azaz egyarant konnyu legyen leirni **es** megerteni is.\n",
    "\n",
    "Az algoritmus analizis osszehasonlitasi alapja foleg az algoritmus hatekonysaganak a vizsgalata (*szamitasi kapacitas*, *futasido*). Szeretnenk osszehasonlitani ket algoritmust es hatekonysaguk alapjan eldonteni mikor melyik a *jobb*. Ebbol a szemszogbol vizsgalva az elobbi ket kodot, maris nem kulonboznek annyira.\n",
    "\n",
    "Az egyik szempont ami alapjan vizsgalhatjuk az algoritmusokat az az altaluk felhasznalt memoriaterulet, azaz, hogy mennyi memoriara van szukseg a problema megoldasahoz. Alapvetoen a memoria hasznalata sokszor egy rajtunk kivul allo tenyezo, ami egeszen az adott programozasi nyelv memoriakezeleseig hatolo problemakor.\n",
    "\n",
    "A masik szempont ami alapjan osszehasonlithatjuk a kulonbozo algoritmusokat az a futasidejuk. A **szamitastudomany** a *computer science* egy olyan aga, ahol az egyik meghatarozo kerdes, hogy az adott problema kiszamithato-e algoritmussal. Egy masik fontos kerdes, hogy ez **veges** idoben megtortenik-e."
   ]
  },
  {
   "cell_type": "code",
   "execution_count": 1,
   "metadata": {},
   "outputs": [],
   "source": [
    "import time\n",
    "def sum_time(n):\n",
    "    start = time.time()\n",
    "    summa = 0\n",
    "    for i in range(n+1):\n",
    "        summa += i\n",
    "    end = time.time()\n",
    "    \n",
    "    return summa, end-start"
   ]
  },
  {
   "cell_type": "markdown",
   "metadata": {},
   "source": [
    "Nezzuk meg mi tortenki, ha 5-szor osszeadjuk az elso 10.000  / 100.000 / 1.000.000 szamot."
   ]
  },
  {
   "cell_type": "code",
   "execution_count": 6,
   "metadata": {},
   "outputs": [
    {
     "name": "stdout",
     "output_type": "stream",
     "text": [
      "50005000 0.0007178783416748047\n",
      "50005000 0.0005538463592529297\n",
      "50005000 0.0005381107330322266\n",
      "50005000 0.000537872314453125\n",
      "50005000 0.0005407333374023438\n",
      "\n",
      "200010000 0.0011227130889892578\n",
      "200010000 0.0011112689971923828\n",
      "200010000 0.0011181831359863281\n",
      "200010000 0.0011212825775146484\n",
      "200010000 0.0010845661163330078\n",
      "\n",
      "5000050000 0.01056361198425293\n",
      "5000050000 0.00856161117553711\n",
      "5000050000 0.006611824035644531\n",
      "5000050000 0.006508827209472656\n",
      "5000050000 0.006047487258911133\n",
      "\n",
      "500000500000 0.05733060836791992\n",
      "500000500000 0.05841636657714844\n",
      "500000500000 0.05766439437866211\n",
      "500000500000 0.06585979461669922\n",
      "500000500000 0.05741739273071289\n",
      "\n"
     ]
    }
   ],
   "source": [
    "# sum of first 10.000 integer\n",
    "for i in range(5):\n",
    "    result = sum_time(10000)\n",
    "    print(result[0],result[1])\n",
    "print()\n",
    "\n",
    "# sum of first 20.000 integer\n",
    "for i in range(5):\n",
    "    result = sum_time(20000)\n",
    "    print(result[0],result[1])\n",
    "print()\n",
    "\n",
    "# sum of first 100.000 integer\n",
    "for i in range(5):\n",
    "    result = sum_time(100000)\n",
    "    print(result[0],result[1])\n",
    "print()\n",
    "\n",
    "#sum of first 1.000.000\n",
    "for i in range(5):\n",
    "    result = sum_time(1000000)\n",
    "    print(result[0],result[1])\n",
    "print()"
   ]
  },
  {
   "cell_type": "code",
   "execution_count": 14,
   "metadata": {},
   "outputs": [],
   "source": [
    "import timeit\n",
    "def list_concat():\n",
    "    l = []\n",
    "    for i in range(1,1001):\n",
    "        l = l + [i]\n",
    "\n",
    "timer_concat = timeit.Timer(\"list_concat()\",\n",
    "                            \"from __main__ import list_concat\")\n",
    "\n",
    "def list_append():\n",
    "    l = []\n",
    "    for i in range(1,1001):\n",
    "        l.append(i)\n",
    "        \n",
    "timer_append = timeit.Timer(\"list_append()\",\n",
    "                            \"from __main__ import list_append\")\n",
    "\n",
    "def list_gen():\n",
    "    [x for x in range(1,1001)]\n",
    "    \n",
    "timer_gen = timeit.Timer(\"list_gen()\",\n",
    "                            \"from __main__ import list_gen\")\n",
    "\n",
    "def list_range():\n",
    "    list(range(1,1001))\n",
    "\n",
    "timer_range = timeit.Timer(\"list_range()\",\n",
    "                            \"from __main__ import list_range\")"
   ]
  },
  {
   "cell_type": "code",
   "execution_count": 16,
   "metadata": {},
   "outputs": [
    {
     "name": "stdout",
     "output_type": "stream",
     "text": [
      "concat:  13.297776175000763 s\n",
      "append:  0.742557992998627 s\n",
      "generator:  0.3257195749974926 s\n",
      "range:  0.13456160200439626 s\n"
     ]
    }
   ],
   "source": [
    "print(\"concat: \",timer_concat.timeit(number=10000),\"s\")\n",
    "print(\"append: \",timer_append.timeit(number=10000),\"s\")\n",
    "print(\"generator: \",timer_gen.timeit(number=10000),\"s\")\n",
    "print(\"range: \",timer_range.timeit(number=10000),\"s\")"
   ]
  },
  {
   "cell_type": "code",
   "execution_count": 1,
   "metadata": {},
   "outputs": [],
   "source": [
    "def fibo(n):\n",
    "    if n == 1:\n",
    "        return 0\n",
    "    if n == 2:\n",
    "        return 1\n",
    "    return fibo(n-1) + fibo(n-2)"
   ]
  },
  {
   "cell_type": "code",
   "execution_count": 5,
   "metadata": {},
   "outputs": [
    {
     "data": {
      "text/plain": [
       "34"
      ]
     },
     "execution_count": 5,
     "metadata": {},
     "output_type": "execute_result"
    }
   ],
   "source": [
    "fibo(10)"
   ]
  },
  {
   "cell_type": "code",
   "execution_count": 12,
   "metadata": {},
   "outputs": [],
   "source": [
    "def fibo_it(n):\n",
    "    if n == 1:\n",
    "        return 0\n",
    "    if n == 2:\n",
    "        return 1\n",
    "    n1 = 0\n",
    "    n2 = 1\n",
    "    act_fib = 0\n",
    "    for i in range(1,n):\n",
    "        act_fib = n1 + n2\n",
    "        n2 = n1\n",
    "        n1 = act_fib\n",
    "        \n",
    "    return act_fib"
   ]
  },
  {
   "cell_type": "code",
   "execution_count": 13,
   "metadata": {},
   "outputs": [
    {
     "name": "stdout",
     "output_type": "stream",
     "text": [
      "0\n",
      "1\n",
      "1\n",
      "2\n",
      "3\n",
      "5\n",
      "8\n",
      "13\n",
      "21\n",
      "34\n"
     ]
    }
   ],
   "source": [
    "for i in range(1,11):\n",
    "    print(fibo_it(i))"
   ]
  },
  {
   "cell_type": "code",
   "execution_count": 15,
   "metadata": {},
   "outputs": [
    {
     "name": "stdout",
     "output_type": "stream",
     "text": [
      "20793608237133498072112648988642836825087036094015903119682945866528501423455686648927456034305226515591757343297190158010624794267250973176133810179902738038231789748346235556483191431591924532394420028067810320408724414693462849062668387083308048250920654493340878733226377580847446324873797603734794648258113858631550404081017260381202919943892370942852601647398213554479081823593715429566945149312993664846779090437799284773675379284270660175134664833266377698642012106891355791141872776934080803504956794094648292880566056364718187662668970758537383352677420835574155945658542003634765324541006121012446785689171494803262408602693091211601973938229446636049901531963286159699077880427720289235539329671877182915643419079186525118678856821600897520171070499437657067342400871083908811800976259727431820539554256869460815355918458253398234382360435762759823179896116748424269545924633204614137992850814352018738480923581553988990897151469406131695614497783720743461373756218685106856826090696339815490921253714537241866911604250597353747823733268178182198509240226955826416016690084749816072843582488613184829905383150180047844353751554201573833105521980998123833253261228689824051777846588461079790807828367132384798451794011076569057522158680378961532160858387223882974380483931929541222100800313580688585002598879566463221427820448492565073106595808837401648996423563386109782045634122467872921845606409174360635618216883812562321664442822952537577492715365321134204530686742435454505103269768144370118494906390254934942358904031509877369722437053383165360388595116980245927935225901537634925654872380877183008301074569444002426436414756905094535072804764684492105680024739914490555904391369218696387092918189246157103450387050229300603241611410707453960080170928277951834763216705242485820801423866526633816082921442883095463259080471819329201710147828025221385656340207489796317663278872207607791034431700112753558813478888727503825389066823098683355695718137867882982111710796422706778536913192342733364556727928018953989153106047379741280794091639429908796650294603536651238230626\n"
     ]
    }
   ],
   "source": [
    "print(fibo_it(10000))"
   ]
  },
  {
   "cell_type": "code",
   "execution_count": null,
   "metadata": {},
   "outputs": [],
   "source": []
  }
 ],
 "metadata": {
  "kernelspec": {
   "display_name": "Python 3",
   "language": "python",
   "name": "python3"
  },
  "language_info": {
   "codemirror_mode": {
    "name": "ipython",
    "version": 3
   },
   "file_extension": ".py",
   "mimetype": "text/x-python",
   "name": "python",
   "nbconvert_exporter": "python",
   "pygments_lexer": "ipython3",
   "version": "3.5.2"
  }
 },
 "nbformat": 4,
 "nbformat_minor": 2
}

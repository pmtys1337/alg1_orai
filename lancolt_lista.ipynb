{
 "cells": [
  {
   "cell_type": "markdown",
   "metadata": {},
   "source": [
    "# Lancolt lista"
   ]
  },
  {
   "cell_type": "markdown",
   "metadata": {},
   "source": [
    "## Fejelemes lancolt lista"
   ]
  },
  {
   "cell_type": "code",
   "execution_count": 13,
   "metadata": {},
   "outputs": [],
   "source": [
    "class Node:\n",
    "    def __init__(self, value = 0, next_node = None):\n",
    "        self.value = value\n",
    "        self.next_node = next_node "
   ]
  },
  {
   "cell_type": "code",
   "execution_count": 14,
   "metadata": {},
   "outputs": [
    {
     "name": "stdout",
     "output_type": "stream",
     "text": [
      "3\n",
      "4\n",
      "5\n"
     ]
    }
   ],
   "source": [
    "elso = Node(3)\n",
    "elso.next_node = Node(4)\n",
    "elso.next_node.next_node = Node(5)\n",
    "\n",
    "print(elso.value)\n",
    "print(elso.next_node.value)\n",
    "print(elso.next_node.next_node.value)"
   ]
  },
  {
   "cell_type": "code",
   "execution_count": 15,
   "metadata": {},
   "outputs": [],
   "source": [
    "class MyList:\n",
    "    class Node:\n",
    "        def __init__(self,value=0,next_node=None):\n",
    "            self.value = value\n",
    "            self.next_node = next_node\n",
    "    def __init__(self):\n",
    "        self.head = None\n",
    "        self.tail = None\n",
    "        \n",
    "    def my_append(self,elem):  \n",
    "        if not self.head:\n",
    "            self.head = self.Node(elem)\n",
    "            self.tail = self.head\n",
    "        else:\n",
    "            self.tail.next_node = self.Node(elem)\n",
    "            self.tail = self.tail.next_node\n",
    "            \n",
    "    def my_print(self):\n",
    "        print(\"[\", end=\"\")\n",
    "        act_node = self.head\n",
    "        while act_node.next_node is not None:\n",
    "            print(act_node.value, end=\", \")\n",
    "            act_node = act_node.next_node\n",
    "        print(act_node.value, end=\"\")\n",
    "        print(\"]\")\n",
    "    "
   ]
  },
  {
   "cell_type": "code",
   "execution_count": 16,
   "metadata": {},
   "outputs": [
    {
     "name": "stdout",
     "output_type": "stream",
     "text": [
      "[3, 4, 5, 6, 7]\n"
     ]
    }
   ],
   "source": [
    "my_list = MyList()\n",
    "my_list.my_append(3)\n",
    "my_list.my_append(4)\n",
    "my_list.my_append(5)\n",
    "my_list.my_append(6)\n",
    "my_list.my_append(7)\n",
    "my_list.my_print()"
   ]
  },
  {
   "cell_type": "code",
   "execution_count": 11,
   "metadata": {},
   "outputs": [],
   "source": [
    "class SortedList:\n",
    "    class Node:\n",
    "        def __init__(self,value=0,next_node=None):\n",
    "            self.value = value\n",
    "            self.next_node = next_node\n",
    "    def __init__(self):\n",
    "        self.head = None\n",
    "        self.tail = None\n",
    "        \n",
    "    def sl_append(self,elem):  \n",
    "        if not self.head:\n",
    "            self.head = self.Node(elem)\n",
    "            self.tail = self.head\n",
    "        else:\n",
    "            if elem <= self.head.value:\n",
    "                act_node = self.Node(elem)\n",
    "                act_node.next_node = self.head\n",
    "                self.head = act_node\n",
    "            elif self.tail.value <= elem:\n",
    "                act_node = self.Node(elem)\n",
    "                self.tail.next_node = act_node\n",
    "                self.tail = act_node\n",
    "            else:\n",
    "                prev_node = self.head\n",
    "                while prev_node.next_node.value < elem:\n",
    "                    prev_node = prev_node.next_node\n",
    "                act_node = self.Node(elem)\n",
    "                act_node.next_node = prev_node.next_node\n",
    "                prev_node.next_node = act_node\n",
    "                \n",
    "    def sl_print(self):\n",
    "        print(\"[\", end=\"\")\n",
    "        act_node = self.head\n",
    "        while act_node.next_node is not None:\n",
    "            print(act_node.value, end=\", \")\n",
    "            act_node = act_node.next_node\n",
    "        print(act_node.value, end=\"\")\n",
    "        print(\"]\")\n",
    "        \n",
    "    def sl_rev_print():\n",
    "        pass"
   ]
  },
  {
   "cell_type": "code",
   "execution_count": 12,
   "metadata": {},
   "outputs": [
    {
     "name": "stdout",
     "output_type": "stream",
     "text": [
      "[4]\n",
      "[4, 6]\n",
      "[4, 5, 6]\n",
      "[3, 4, 5, 6]\n",
      "[3, 4, 5, 6, 7]\n"
     ]
    }
   ],
   "source": [
    "sl_list = SortedList()\n",
    "sl_list.sl_append(4)\n",
    "sl_list.sl_print()\n",
    "sl_list.sl_append(6)\n",
    "sl_list.sl_print()\n",
    "sl_list.sl_append(5)\n",
    "sl_list.sl_print()\n",
    "sl_list.sl_append(3)\n",
    "sl_list.sl_print()\n",
    "sl_list.sl_append(7)\n",
    "sl_list.sl_print()"
   ]
  },
  {
   "cell_type": "code",
   "execution_count": 36,
   "metadata": {},
   "outputs": [
    {
     "name": "stdout",
     "output_type": "stream",
     "text": [
      "[33238, 60000, 61124, 122873, 127128, 143910, 148246, 165976, 214034, 218759, 219319, 229949, 234673, 262201, 267269, 309496, 324214, 325980, 326139, 332096]\n"
     ]
    }
   ],
   "source": [
    "import random\n",
    "sl_list = SortedList()\n",
    "for i in range(20):\n",
    "    act_elem = random.randint(1,345353)\n",
    "    sl_list.sl_append(act_elem)\n",
    "sl_list.sl_print()"
   ]
  },
  {
   "cell_type": "code",
   "execution_count": null,
   "metadata": {},
   "outputs": [],
   "source": []
  }
 ],
 "metadata": {
  "kernelspec": {
   "display_name": "Python 3",
   "language": "python",
   "name": "python3"
  },
  "language_info": {
   "codemirror_mode": {
    "name": "ipython",
    "version": 3
   },
   "file_extension": ".py",
   "mimetype": "text/x-python",
   "name": "python",
   "nbconvert_exporter": "python",
   "pygments_lexer": "ipython3",
   "version": "3.5.2"
  }
 },
 "nbformat": 4,
 "nbformat_minor": 2
}

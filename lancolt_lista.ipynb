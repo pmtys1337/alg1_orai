{
 "cells": [
  {
   "cell_type": "markdown",
   "metadata": {},
   "source": [
    "# Lancolt lista\n",
    "\n",
    "A lancolt lista konstrukcioja segit minket abban, hogy kesobb a legtobb adatszerkezetet dinamikusan meg tudjuk valositani. Alapvetoen ket problemaval talalkozhatunk proramozas kozben, az egyik, hogy egy adott tipusu valtozoban egyszeruen mar nem fer el a tarolni kivant ertek az implementaciobol fakadoan, illetve, hogy egy altalunk foglalt tarolo egesz egyszeruen betelik a program futasa soran, de megis tobb teruletre lenne szuksegunk. Ekkor segitsegunkre lehet, ha kepesek vagyunk olyan eszkozokkel dolgozni, amik lehetove teszik, hogy futas kozben tetszes szerint hasznalhassuk fel arendelkezesre allo memoriat.\n",
    "\n",
    "Ennek megoldasara ugynevezett **node** legoelemekbol fogunk epitkezni. Minden egyes node elem 2 osszetevobol all, egy ertekbol es egy olyan reszbol (*mutatobol*), ami ismerheti egy masik hozza hasonlo lego elem memoriaban elfoglalt helyet.\n",
    "\n",
    "Node: |ertek|mutato(memoriacim)|  \n",
    "|1|0x..|->|4|0x..|->..->|42|X|"
   ]
  },
  {
   "cell_type": "markdown",
   "metadata": {},
   "source": [
    "## Fejelemes lancolt lista\n",
    "\n",
    "A fejelemes lancolt listanak az elso elemet ismerjuk, minden egyes egyeb elemet ezen keresztul erhetjuk el, egesz egyszeruen \"vegigmaszunk\" a listankon."
   ]
  },
  {
   "cell_type": "code",
   "execution_count": 13,
   "metadata": {},
   "outputs": [],
   "source": [
    "class Node:\n",
    "    def __init__(self, value = 0, next_node = None):\n",
    "        self.value = value\n",
    "        self.next_node = next_node "
   ]
  },
  {
   "cell_type": "code",
   "execution_count": 14,
   "metadata": {},
   "outputs": [
    {
     "name": "stdout",
     "output_type": "stream",
     "text": [
      "3\n",
      "4\n",
      "5\n"
     ]
    }
   ],
   "source": [
    "elso = Node(3)\n",
    "elso.next_node = Node(4)\n",
    "elso.next_node.next_node = Node(5)\n",
    "\n",
    "print(elso.value)\n",
    "print(elso.next_node.value)\n",
    "print(elso.next_node.next_node.value)"
   ]
  },
  {
   "cell_type": "markdown",
   "metadata": {},
   "source": [
    "# MyList\n",
    "\n",
    "Lancolt lista segitsegevel megprobaljuk modellezni a python beepitett listajanak mukodeset. A listanak folyamatosan szamon tartjuk az elso es az utolso elemet (a python lista az utolsoval dolgozik mindig, ezert a beszuras muvelete (append) azonnal vegre tud hajtodni). A **my_append** pontosan ugy mukodik, ahogy a python lista append() muvelete, ennek mintajara konnyeden implementalhatjuk a lista barmelyik muveletet amit a dokumentacioban megtalalunk.\n",
    "\n",
    "Ahhoz, hogy ugyan ugy mukodjon, mint amit megszoktunk, szukseg van a listank kiirasara egy sajat fgv-t definialni (*my_print*), ami az eredeti listahoz hasonlo formatumban mutatja meg szamunkra a lista tartalmat. Ez viszont kenyelmetlen, hiszen igy mindig csak objektumon keresztul tudunk lista tartalmat megtekinteni -*my_list.my_print*-, az idealis megoldas persze az lenne, ha az objektumunkat (*my_list*) atadva a print() fgv-nek ugyan azt a hatast erhetnenk el. Erre ad lehetoseget a minden osztalyban jelen levo **__str__()** es **__repr__()** fgv, ahol mi magunk definialhatjuk, hogy az altalunk letrehozott tipusbol peldanyositott objektum hogyan reprezentalhato. Mikor a python beepitett print() fgv-et hivjuk, az kiiraskor elsodlegesen a kapott objektum **__str__()** fgv-enek visszateresi ertekere tamaszkodik.\n",
    "\n",
    "A nyelv lehetoseget biztosit arra, hogy az altalunk letrehozott tipus kompatibilis legyen a kulonbozo ciklusokkal. Egy tipus akkor tud egyuttmukodni a ciklusokkal, ha iteralhato (vegigjarhato). Ehhez ket dologra lesz szuksegunk, az egyik fontos dolog, hogy a tipusunkhoz definialjuk az **__iter__()** fgv-t amely arrol gondoskodik, hogy a ciklus szamara jelezni fogja hol talalhato az *elso* elem, jelentsen ez barmit is a mi implementacionkban (jelen esetben ez a *head*). A masik fontos dolog, leven, hogy vegig szeretnenk jarni, hogy definialasra keruljon a **__next__()** fgv, ami alapjan tudni fogja a ciklus, hogy a mi tipusunknal mit jelent az, hogy *kovetkezo elem* (jelen esetben arrebb maszunk a lancon: aktualis = aktualis.kovetkezo). Itt Ugyelnunk kell arra, ha a **__next__()** fgv eleri az utolso elemet, dobjon egy specialis **StopIteration** kivetelt, innen fogja tudni a ciklusunk, hogy nem kell tovabb elemet keresnie es megallhat."
   ]
  },
  {
   "cell_type": "code",
   "execution_count": 74,
   "metadata": {},
   "outputs": [],
   "source": [
    "class MyList:\n",
    "    class Node:\n",
    "        def __init__(self,value=0,next_node=None):\n",
    "            self.value = value\n",
    "            self.next_node = next_node\n",
    "    def __init__(self):\n",
    "        self.head = None\n",
    "        self.tail = None\n",
    "        \n",
    "    def my_append(self,elem):  \n",
    "        if not self.head:\n",
    "            self.head = self.Node(elem)\n",
    "            self.tail = self.head\n",
    "        else:\n",
    "            self.tail.next_node = self.Node(elem)\n",
    "            self.tail = self.tail.next_node\n",
    "    \n",
    "    def my_print(self):\n",
    "        print(\"[\", end=\"\")\n",
    "        act_node = self.head\n",
    "        while act_node.next_node is not None:\n",
    "            print(act_node.value, end=\", \")\n",
    "            act_node = act_node.next_node\n",
    "        print(act_node.value, end=\"\")\n",
    "        print(\"]\")\n",
    "        \n",
    "    # ----------- MAGIC -----------\n",
    "    def __str__(self):\n",
    "        if self.head == None:\n",
    "            return \"[]\"\n",
    "        result = \"[\"\n",
    "        act_node = self.head\n",
    "        while act_node.next_node is not None:\n",
    "            result += str(act_node.value) + \", \"\n",
    "            act_node = act_node.next_node\n",
    "        result += str(act_node.value) + \"]\"\n",
    "        return result\n",
    "        \n",
    "    def __repr__(self):\n",
    "        return self.__str__()\n",
    "    \n",
    "    def __iter__(self):\n",
    "        self.current_node = self.head\n",
    "        return self\n",
    "    \n",
    "    def __next__(self):\n",
    "        if self.current_node == None:\n",
    "            raise StopIteration\n",
    "        act_value = self.current_node.value\n",
    "        self.current_node = self.current_node.next_node\n",
    "        return act_value"
   ]
  },
  {
   "cell_type": "code",
   "execution_count": 80,
   "metadata": {},
   "outputs": [
    {
     "name": "stdout",
     "output_type": "stream",
     "text": [
      "[3, 4, 5, 6, 7]\n",
      "[]\n",
      "[[3, 4, 5, 6, 7], []]\n",
      "Paratlan\n",
      "Paros\n",
      "Paratlan\n",
      "\n",
      "Paratlan\n",
      "Paros\n",
      "Paratlan\n",
      "Paros\n",
      "Paratlan\n"
     ]
    }
   ],
   "source": [
    "my_list = MyList()\n",
    "my_list2 = MyList()\n",
    "my_list.my_append(3)\n",
    "my_list.my_append(4)\n",
    "my_list.my_append(5)\n",
    "my_list.my_append(6)\n",
    "my_list.my_append(7)\n",
    "my_list_list = [my_list, my_list2]\n",
    "print(my_list)\n",
    "print(my_list2)\n",
    "print(my_list_list)\n",
    "\n",
    "x = [1,2,3]\n",
    "for elem in x:\n",
    "    print(\"Paros\" if elem % 2 == 0 else \"Paratlan\")\n",
    "print()\n",
    "for elem in my_list:\n",
    "    print(\"Paros\" if elem % 2 == 0 else \"Paratlan\")"
   ]
  },
  {
   "cell_type": "markdown",
   "metadata": {},
   "source": [
    "# SortedList\n",
    "\n",
    "Az igazi ereje abban rejlik a dinamikusan mukodo szerkezeteknek, hogy innentol tetszes szerint barmilyen adatszerkezetet megvalosithatunk, annak mukodesi elve csak rajtunk all. Most egy olyan listat fogunk megvalositani az eddig hasznalt lancolt listas megkozelitessel, melyben az elhelyezett elemek automatikusan novekvo sorrendben lesznek. Ehhez nincs mas dolgunk, mint a hozzafuzo (*append*) muveletet ugy megalkotni, hogy uj elem beszurasa eseten az *automatikusan* a kivalasztott rendezes szerint a *helyere* keruljon. Mivel itt is olyan lancolt listaval dolgozunk, aminek szamontartjuk az elso (*hed*) es utolso (*tail*) elemet egyarant, itt peldaul nagyon hatekonyan tudunk olyan muveleteket implementalni, ami szelsoerteket *keres* az ertekek kozott, hiszen min = *head.value* es max = *tail.value*."
   ]
  },
  {
   "cell_type": "code",
   "execution_count": 79,
   "metadata": {},
   "outputs": [],
   "source": [
    "class SortedList:\n",
    "    class Node:\n",
    "        def __init__(self,value=0,next_node=None):\n",
    "            self.value = value\n",
    "            self.next_node = next_node\n",
    "    def __init__(self):\n",
    "        self.head = None\n",
    "        self.tail = None\n",
    "        \n",
    "    def sl_append(self,elem):  \n",
    "        if not self.head:\n",
    "            self.head = self.Node(elem)\n",
    "            self.tail = self.head\n",
    "        else:\n",
    "            if elem <= self.head.value:\n",
    "                act_node = self.Node(elem)\n",
    "                act_node.next_node = self.head\n",
    "                self.head = act_node\n",
    "            elif self.tail.value <= elem:\n",
    "                act_node = self.Node(elem)\n",
    "                self.tail.next_node = act_node\n",
    "                self.tail = act_node\n",
    "            else:\n",
    "                prev_node = self.head\n",
    "                while prev_node.next_node.value < elem:\n",
    "                    prev_node = prev_node.next_node\n",
    "                act_node = self.Node(elem)\n",
    "                act_node.next_node = prev_node.next_node\n",
    "                prev_node.next_node = act_node\n",
    "                \n",
    "    def sl_print(self):\n",
    "        print(\"[\", end=\"\")\n",
    "        act_node = self.head\n",
    "        while act_node.next_node is not None:\n",
    "            print(act_node.value, end=\", \")\n",
    "            act_node = act_node.next_node\n",
    "        print(act_node.value, end=\"\")\n",
    "        print(\"]\")\n",
    "        \n",
    "    def sl_rev_print():\n",
    "        pass"
   ]
  },
  {
   "cell_type": "code",
   "execution_count": 12,
   "metadata": {},
   "outputs": [
    {
     "name": "stdout",
     "output_type": "stream",
     "text": [
      "[4]\n",
      "[4, 6]\n",
      "[4, 5, 6]\n",
      "[3, 4, 5, 6]\n",
      "[3, 4, 5, 6, 7]\n"
     ]
    }
   ],
   "source": [
    "sl_list = SortedList()\n",
    "sl_list.sl_append(4)\n",
    "sl_list.sl_print()\n",
    "sl_list.sl_append(6)\n",
    "sl_list.sl_print()\n",
    "sl_list.sl_append(5)\n",
    "sl_list.sl_print()\n",
    "sl_list.sl_append(3)\n",
    "sl_list.sl_print()\n",
    "sl_list.sl_append(7)\n",
    "sl_list.sl_print()"
   ]
  },
  {
   "cell_type": "code",
   "execution_count": 36,
   "metadata": {},
   "outputs": [
    {
     "name": "stdout",
     "output_type": "stream",
     "text": [
      "[33238, 60000, 61124, 122873, 127128, 143910, 148246, 165976, 214034, 218759, 219319, 229949, 234673, 262201, 267269, 309496, 324214, 325980, 326139, 332096]\n"
     ]
    }
   ],
   "source": [
    "import random\n",
    "sl_list = SortedList()\n",
    "for i in range(20):\n",
    "    act_elem = random.randint(1,345353)\n",
    "    sl_list.sl_append(act_elem)\n",
    "sl_list.sl_print()"
   ]
  },
  {
   "cell_type": "code",
   "execution_count": null,
   "metadata": {},
   "outputs": [],
   "source": []
  }
 ],
 "metadata": {
  "kernelspec": {
   "display_name": "Python 3",
   "language": "python",
   "name": "python3"
  },
  "language_info": {
   "codemirror_mode": {
    "name": "ipython",
    "version": 3
   },
   "file_extension": ".py",
   "mimetype": "text/x-python",
   "name": "python",
   "nbconvert_exporter": "python",
   "pygments_lexer": "ipython3",
   "version": "3.5.2"
  }
 },
 "nbformat": 4,
 "nbformat_minor": 2
}
